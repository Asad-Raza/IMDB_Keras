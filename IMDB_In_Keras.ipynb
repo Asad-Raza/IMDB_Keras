{
 "cells": [
  {
   "cell_type": "markdown",
   "metadata": {},
   "source": [
    "# IMDB Movie reviews sentiment classification in Keras"
   ]
  },
  {
   "cell_type": "code",
   "execution_count": 2,
   "metadata": {},
   "outputs": [],
   "source": [
    "import numpy as np\n",
    "import keras\n",
    "from keras.datasets import imdb\n",
    "from keras.models import Sequential\n",
    "from keras.layers import Dense, Dropout, Activation\n",
    "from keras.preprocessing.text import Tokenizer\n",
    "import matplotlib.pyplot as plt"
   ]
  },
  {
   "cell_type": "code",
   "execution_count": 3,
   "metadata": {},
   "outputs": [
    {
     "name": "stdout",
     "output_type": "stream",
     "text": [
      "(25000,) (25000,)\n",
      "(25000,) (25000,)\n"
     ]
    }
   ],
   "source": [
    "# Loading the data\n",
    "(x_train, y_train), (x_test, y_test) = imdb.load_data(\n",
    "                                        num_words=1500, \n",
    "                                        index_from=3,\n",
    "                                        skip_top=10)\n",
    "\n",
    "print(x_train.shape,y_train.shape)\n",
    "print(x_test.shape,y_train.shape)"
   ]
  },
  {
   "cell_type": "code",
   "execution_count": 4,
   "metadata": {},
   "outputs": [
    {
     "name": "stdout",
     "output_type": "stream",
     "text": [
      "[2, 14, 22, 16, 43, 530, 973, 2, 1385, 65, 458, 2, 66, 2, 2, 173, 36, 256, 2, 25, 100, 43, 838, 112, 50, 670, 2, 2, 35, 480, 284, 2, 150, 2, 172, 112, 167, 2, 336, 385, 39, 2, 172, 2, 1111, 17, 546, 38, 13, 447, 2, 192, 50, 16, 2, 147, 2, 19, 14, 22, 2, 2, 2, 469, 2, 22, 71, 87, 12, 16, 43, 530, 38, 76, 15, 13, 1247, 2, 22, 17, 515, 17, 12, 16, 626, 18, 2, 2, 62, 386, 12, 2, 316, 2, 106, 2, 2, 2, 2, 16, 480, 66, 2, 33, 2, 130, 12, 16, 38, 619, 2, 25, 124, 51, 36, 135, 48, 25, 1415, 33, 2, 22, 12, 215, 28, 77, 52, 2, 14, 407, 16, 82, 2, 2, 2, 107, 117, 2, 15, 256, 2, 2, 2, 2, 2, 723, 36, 71, 43, 530, 476, 26, 400, 317, 46, 2, 2, 2, 1029, 13, 104, 88, 2, 381, 15, 297, 98, 32, 2, 56, 26, 141, 2, 194, 2, 18, 2, 226, 22, 21, 134, 476, 26, 480, 2, 144, 30, 2, 18, 51, 36, 28, 224, 92, 25, 104, 2, 226, 65, 16, 38, 1334, 88, 12, 16, 283, 2, 16, 2, 113, 103, 32, 15, 16, 2, 19, 178, 32]\n",
      "1\n",
      "<SKIP> this film was just brilliant casting <SKIP> scenery story direction <SKIP> really <SKIP> <SKIP> part they played <SKIP> you could just imagine being there robert <SKIP> <SKIP> an amazing actor <SKIP> now <SKIP> same being director <SKIP> father came from <SKIP> same <SKIP> island as myself so i loved <SKIP> fact there was <SKIP> real <SKIP> with this film <SKIP> <SKIP> <SKIP> throughout <SKIP> film were great it was just brilliant so much that i bought <SKIP> film as soon as it was released for <SKIP> <SKIP> would recommend it <SKIP> everyone <SKIP> watch <SKIP> <SKIP> <SKIP> <SKIP> was amazing really <SKIP> at <SKIP> end it was so sad <SKIP> you know what they say if you cry at <SKIP> film it must have been good <SKIP> this definitely was also <SKIP> <SKIP> <SKIP> two little <SKIP> that played <SKIP> <SKIP> <SKIP> <SKIP> <SKIP> paul they were just brilliant children are often left out <SKIP> <SKIP> <SKIP> list i think because <SKIP> stars that play them all <SKIP> up are such <SKIP> big <SKIP> for <SKIP> whole film but these children are amazing <SKIP> should be <SKIP> for what they have done don't you think <SKIP> whole story was so lovely because it was true <SKIP> was <SKIP> life after all that was <SKIP> with us all\n"
     ]
    }
   ],
   "source": [
    "# Encoded text sample as sequence of indices\n",
    "print(x_train[0])\n",
    "# Corresponding label\n",
    "print(y_train[0])\n",
    "\n",
    "# Original Text\n",
    "word_to_idx = keras.datasets.imdb.get_word_index()\n",
    "word_to_idx = {k:v+3 for k,v in word_to_idx.items()}\n",
    "word_to_idx[\"<PAD>\"] = 0\n",
    "word_to_idx[\"<START>\"] = 1\n",
    "word_to_idx[\"<SKIP>\"] = 2\n",
    "idx_to_word = {value:key for key,value in word_to_idx.items()}\n",
    "\n",
    "print(' '.join(idx_to_word[idx] for idx in x_train[0]))"
   ]
  },
  {
   "cell_type": "code",
   "execution_count": 5,
   "metadata": {},
   "outputs": [
    {
     "name": "stdout",
     "output_type": "stream",
     "text": [
      "[0. 0. 1. ... 0. 0. 0.]\n"
     ]
    }
   ],
   "source": [
    "# One-hot encoding the input\n",
    "tokenizer = Tokenizer(num_words=1500)\n",
    "x_train = tokenizer.sequences_to_matrix(x_train, mode='binary')\n",
    "x_test = tokenizer.sequences_to_matrix(x_test, mode='binary')\n",
    "print(x_train[0])"
   ]
  },
  {
   "cell_type": "code",
   "execution_count": 6,
   "metadata": {},
   "outputs": [
    {
     "name": "stdout",
     "output_type": "stream",
     "text": [
      "(25000, 2)\n",
      "(25000, 2)\n"
     ]
    }
   ],
   "source": [
    "# One-hot encode the output\n",
    "num_classes = 2\n",
    "y_train = keras.utils.to_categorical(y_train, num_classes)\n",
    "y_test = keras.utils.to_categorical(y_test, num_classes)\n",
    "print(y_train.shape)\n",
    "print(y_test.shape)"
   ]
  },
  {
   "cell_type": "code",
   "execution_count": 7,
   "metadata": {},
   "outputs": [
    {
     "name": "stdout",
     "output_type": "stream",
     "text": [
      "_________________________________________________________________\n",
      "Layer (type)                 Output Shape              Param #   \n",
      "=================================================================\n",
      "dense_1 (Dense)              (None, 1000)              1501000   \n",
      "_________________________________________________________________\n",
      "dropout_1 (Dropout)          (None, 1000)              0         \n",
      "_________________________________________________________________\n",
      "dense_2 (Dense)              (None, 200)               200200    \n",
      "_________________________________________________________________\n",
      "dropout_2 (Dropout)          (None, 200)               0         \n",
      "_________________________________________________________________\n",
      "dense_3 (Dense)              (None, 50)                10050     \n",
      "_________________________________________________________________\n",
      "dropout_3 (Dropout)          (None, 50)                0         \n",
      "_________________________________________________________________\n",
      "dense_4 (Dense)              (None, 2)                 102       \n",
      "=================================================================\n",
      "Total params: 1,711,352\n",
      "Trainable params: 1,711,352\n",
      "Non-trainable params: 0\n",
      "_________________________________________________________________\n"
     ]
    }
   ],
   "source": [
    "model = Sequential()\n",
    "model.add(Dense(1000, activation='relu', input_dim=1500))\n",
    "model.add(Dropout(0.7))\n",
    "model.add(Dense(200, activation='relu'))\n",
    "model.add(Dropout(0.6))\n",
    "model.add(Dense(50, activation='relu'))\n",
    "model.add(Dropout(0.5))\n",
    "model.add(Dense(num_classes, activation='softmax'))\n",
    "model.summary()\n",
    "\n",
    "# Compiling model\n",
    "model.compile(loss='categorical_crossentropy',\n",
    "              optimizer='rmsprop',\n",
    "              metrics=['accuracy'])"
   ]
  },
  {
   "cell_type": "code",
   "execution_count": 8,
   "metadata": {
    "scrolled": true
   },
   "outputs": [
    {
     "name": "stdout",
     "output_type": "stream",
     "text": [
      "Train on 25000 samples, validate on 25000 samples\n",
      "Epoch 1/5\n",
      " - 10s - loss: 0.4970 - acc: 0.7719 - val_loss: 0.3408 - val_acc: 0.8696\n",
      "Epoch 2/5\n",
      " - 7s - loss: 0.3835 - acc: 0.8592 - val_loss: 0.3315 - val_acc: 0.8702\n",
      "Epoch 3/5\n",
      " - 7s - loss: 0.3594 - acc: 0.8714 - val_loss: 0.3801 - val_acc: 0.8685\n",
      "Epoch 4/5\n",
      " - 7s - loss: 0.3425 - acc: 0.8789 - val_loss: 0.3381 - val_acc: 0.8711\n",
      "Epoch 5/5\n",
      " - 7s - loss: 0.3405 - acc: 0.8787 - val_loss: 0.3503 - val_acc: 0.8732\n"
     ]
    },
    {
     "data": {
      "text/plain": [
       "<keras.callbacks.History at 0x20031e534a8>"
      ]
     },
     "execution_count": 8,
     "metadata": {},
     "output_type": "execute_result"
    }
   ],
   "source": [
    "# Train model\n",
    "model.fit(x_train, y_train,\n",
    "          batch_size=32,\n",
    "          epochs=5,\n",
    "          validation_data=(x_test, y_test), \n",
    "          verbose=2)"
   ]
  },
  {
   "cell_type": "code",
   "execution_count": 9,
   "metadata": {},
   "outputs": [
    {
     "name": "stdout",
     "output_type": "stream",
     "text": [
      "Accuracy:  0.87324\n"
     ]
    }
   ],
   "source": [
    "# Test set accuracy\n",
    "score = model.evaluate(x_test, y_test, verbose=0)\n",
    "print(\"Accuracy: \", score[1])"
   ]
  },
  {
   "cell_type": "code",
   "execution_count": null,
   "metadata": {},
   "outputs": [],
   "source": []
  }
 ],
 "metadata": {
  "kernelspec": {
   "display_name": "Python 3",
   "language": "python",
   "name": "python3"
  },
  "language_info": {
   "codemirror_mode": {
    "name": "ipython",
    "version": 3
   },
   "file_extension": ".py",
   "mimetype": "text/x-python",
   "name": "python",
   "nbconvert_exporter": "python",
   "pygments_lexer": "ipython3",
   "version": "3.6.5"
  }
 },
 "nbformat": 4,
 "nbformat_minor": 2
}
